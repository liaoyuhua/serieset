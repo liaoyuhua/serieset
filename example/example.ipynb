{
 "cells": [
  {
   "cell_type": "code",
   "execution_count": 1,
   "metadata": {},
   "outputs": [],
   "source": [
    "import sys\n",
    "sys.path.append(\"../\")"
   ]
  },
  {
   "cell_type": "markdown",
   "metadata": {},
   "source": [
    "### import packages"
   ]
  },
  {
   "cell_type": "code",
   "execution_count": 2,
   "metadata": {},
   "outputs": [],
   "source": [
    "from torch.utils.data import Dataset, DataLoader\n",
    "import pandas as pd\n",
    "import numpy as np\n",
    "from serieset import TimeSeriesDataset"
   ]
  },
  {
   "cell_type": "markdown",
   "metadata": {},
   "source": [
    "### load dataset file"
   ]
  },
  {
   "cell_type": "code",
   "execution_count": 3,
   "metadata": {},
   "outputs": [],
   "source": [
    "data = pd.read_csv(\"./data/ETTh1.csv\")"
   ]
  },
  {
   "cell_type": "markdown",
   "metadata": {},
   "source": [
    "### process raw dataset: add group_id column (required)"
   ]
  },
  {
   "cell_type": "code",
   "execution_count": 4,
   "metadata": {},
   "outputs": [],
   "source": [
    "data[\"group_id\"] = \"group_id\""
   ]
  },
  {
   "cell_type": "code",
   "execution_count": 5,
   "metadata": {},
   "outputs": [
    {
     "name": "stdout",
     "output_type": "stream",
     "text": [
      "                  date   HUFL   HULL   MUFL   MULL   LUFL   LULL         OT  \\\n",
      "0  2016-07-01 00:00:00  5.827  2.009  1.599  0.462  4.203  1.340  30.531000   \n",
      "1  2016-07-01 01:00:00  5.693  2.076  1.492  0.426  4.142  1.371  27.787001   \n",
      "2  2016-07-01 02:00:00  5.157  1.741  1.279  0.355  3.777  1.218  27.787001   \n",
      "3  2016-07-01 03:00:00  5.090  1.942  1.279  0.391  3.807  1.279  25.044001   \n",
      "4  2016-07-01 04:00:00  5.358  1.942  1.492  0.462  3.868  1.279  21.948000   \n",
      "\n",
      "   group_id  \n",
      "0  group_id  \n",
      "1  group_id  \n",
      "2  group_id  \n",
      "3  group_id  \n",
      "4  group_id  \n",
      "minimum date: 2016-07-01 00:00:00\n",
      "maximum date: 2018-06-26 19:00:00\n"
     ]
    }
   ],
   "source": [
    "print(data.head())\n",
    "print(f\"minimum date: {data['date'].min()}\")\n",
    "print(f\"maximum date: {data['date'].max()}\")"
   ]
  },
  {
   "cell_type": "markdown",
   "metadata": {},
   "source": [
    "### here is some arguments for TimeSeriesDataset"
   ]
  },
  {
   "cell_type": "code",
   "execution_count": 6,
   "metadata": {},
   "outputs": [],
   "source": [
    "params = {\n",
    "    'target_col': 'OT',\n",
    "    'features': [\"HUFL\", \"HULL\"],\n",
    "    'group_id': 'group_id',\n",
    "    'date_col': 'date',\n",
    "    'inp_len': 36,\n",
    "    'pred_len': 12,\n",
    "    'train_val_split_date': '2018-01-01 00:00:00',\n",
    "    'mode': 'train',\n",
    "}"
   ]
  },
  {
   "cell_type": "markdown",
   "metadata": {},
   "source": [
    "### create TimeSeriesDataset instance"
   ]
  },
  {
   "cell_type": "code",
   "execution_count": 7,
   "metadata": {},
   "outputs": [],
   "source": [
    "torch_dataset = TimeSeriesDataset(\n",
    "    data=data,\n",
    "    **params\n",
    ")"
   ]
  },
  {
   "cell_type": "markdown",
   "metadata": {},
   "source": [
    "### TimeSeriesDataset returns a dictionary of ['x', 'x_feats', 'y', 'group_id', 'sample_id']"
   ]
  },
  {
   "cell_type": "code",
   "execution_count": 8,
   "metadata": {},
   "outputs": [
    {
     "name": "stdout",
     "output_type": "stream",
     "text": [
      "output of dataset is: dict_keys(['x', 'x_feats', 'y', 'group_id', 'sample_id'])\n"
     ]
    }
   ],
   "source": [
    "print(f\"output of dataset is: {torch_dataset[0].keys()}\")"
   ]
  },
  {
   "cell_type": "markdown",
   "metadata": {},
   "source": [
    "### 'x' is input time series"
   ]
  },
  {
   "cell_type": "code",
   "execution_count": 9,
   "metadata": {},
   "outputs": [
    {
     "name": "stdout",
     "output_type": "stream",
     "text": [
      "shape of x: torch.Size([36])\n"
     ]
    }
   ],
   "source": [
    "print(f\"shape of x: {torch_dataset[0]['x'].shape}\")"
   ]
  },
  {
   "cell_type": "code",
   "execution_count": 10,
   "metadata": {},
   "outputs": [
    {
     "name": "stdout",
     "output_type": "stream",
     "text": [
      "first sample not equal: 0\n"
     ]
    }
   ],
   "source": [
    "# check correctness\n",
    "not_equal = (torch_dataset[0]['x'].numpy() != data[\"OT\"][:params['inp_len']].astype(np.float32)).sum()\n",
    "print(f\"first sample not equal: {not_equal}\")"
   ]
  },
  {
   "cell_type": "markdown",
   "metadata": {},
   "source": [
    "### 'x_feats' is input covariates"
   ]
  },
  {
   "cell_type": "code",
   "execution_count": 11,
   "metadata": {},
   "outputs": [
    {
     "name": "stdout",
     "output_type": "stream",
     "text": [
      "shape of x_feats: torch.Size([36, 2])\n"
     ]
    }
   ],
   "source": [
    "print(f\"shape of x_feats: {torch_dataset[0]['x_feats'].shape}\")"
   ]
  },
  {
   "cell_type": "code",
   "execution_count": 12,
   "metadata": {},
   "outputs": [
    {
     "name": "stdout",
     "output_type": "stream",
     "text": [
      "first sample features not equal: HUFL    0\n",
      "HULL    0\n",
      "dtype: int64\n"
     ]
    }
   ],
   "source": [
    "not_equal = (torch_dataset[0]['x_feats'].numpy() != data[params['features']][:params['inp_len']].astype(np.float32)).sum()\n",
    "print(f\"first sample features not equal: {not_equal}\")"
   ]
  },
  {
   "cell_type": "markdown",
   "metadata": {},
   "source": [
    "### 'y' is target time series"
   ]
  },
  {
   "cell_type": "code",
   "execution_count": 13,
   "metadata": {},
   "outputs": [
    {
     "name": "stdout",
     "output_type": "stream",
     "text": [
      "shape of y: torch.Size([12])\n"
     ]
    }
   ],
   "source": [
    "print(f\"shape of y: {torch_dataset[0]['y'].shape}\")"
   ]
  },
  {
   "cell_type": "code",
   "execution_count": 14,
   "metadata": {},
   "outputs": [
    {
     "name": "stdout",
     "output_type": "stream",
     "text": [
      "first sample not equal: 0\n"
     ]
    }
   ],
   "source": [
    "# check correctness\n",
    "not_equal = (torch_dataset[0]['y'].numpy() != data[\"OT\"][params['inp_len']: params['inp_len']+ params['pred_len']].astype(np.float32)).sum()\n",
    "print(f\"first sample not equal: {not_equal}\")"
   ]
  },
  {
   "cell_type": "markdown",
   "metadata": {},
   "source": [
    "### 'group_id' is time series group id"
   ]
  },
  {
   "cell_type": "code",
   "execution_count": 15,
   "metadata": {},
   "outputs": [
    {
     "name": "stdout",
     "output_type": "stream",
     "text": [
      "group id: 0\n"
     ]
    }
   ],
   "source": [
    "print(f\"group id: {torch_dataset[0]['group_id']}\")"
   ]
  },
  {
   "cell_type": "markdown",
   "metadata": {},
   "source": [
    "### each training / validation sample has a 'sample_id'"
   ]
  },
  {
   "cell_type": "code",
   "execution_count": 16,
   "metadata": {},
   "outputs": [
    {
     "name": "stdout",
     "output_type": "stream",
     "text": [
      "sample id: 0\n"
     ]
    }
   ],
   "source": [
    "print(f\"sample id: {torch_dataset[0]['sample_id']}\")"
   ]
  },
  {
   "cell_type": "markdown",
   "metadata": {},
   "source": [
    "### furthermore, you can check index manually"
   ]
  },
  {
   "cell_type": "code",
   "execution_count": 17,
   "metadata": {},
   "outputs": [
    {
     "data": {
      "text/html": [
       "<div>\n",
       "<style scoped>\n",
       "    .dataframe tbody tr th:only-of-type {\n",
       "        vertical-align: middle;\n",
       "    }\n",
       "\n",
       "    .dataframe tbody tr th {\n",
       "        vertical-align: top;\n",
       "    }\n",
       "\n",
       "    .dataframe thead th {\n",
       "        text-align: right;\n",
       "    }\n",
       "</style>\n",
       "<table border=\"1\" class=\"dataframe\">\n",
       "  <thead>\n",
       "    <tr style=\"text-align: right;\">\n",
       "      <th></th>\n",
       "      <th>index_start</th>\n",
       "      <th>index_end</th>\n",
       "      <th>group_id</th>\n",
       "      <th>predict_start_date</th>\n",
       "      <th>sample_id</th>\n",
       "    </tr>\n",
       "  </thead>\n",
       "  <tbody>\n",
       "    <tr>\n",
       "      <th>0</th>\n",
       "      <td>0</td>\n",
       "      <td>47</td>\n",
       "      <td>0</td>\n",
       "      <td>2016-07-02 12:00:00</td>\n",
       "      <td>0</td>\n",
       "    </tr>\n",
       "    <tr>\n",
       "      <th>1</th>\n",
       "      <td>1</td>\n",
       "      <td>48</td>\n",
       "      <td>0</td>\n",
       "      <td>2016-07-02 13:00:00</td>\n",
       "      <td>1</td>\n",
       "    </tr>\n",
       "    <tr>\n",
       "      <th>2</th>\n",
       "      <td>2</td>\n",
       "      <td>49</td>\n",
       "      <td>0</td>\n",
       "      <td>2016-07-02 14:00:00</td>\n",
       "      <td>2</td>\n",
       "    </tr>\n",
       "    <tr>\n",
       "      <th>3</th>\n",
       "      <td>3</td>\n",
       "      <td>50</td>\n",
       "      <td>0</td>\n",
       "      <td>2016-07-02 15:00:00</td>\n",
       "      <td>3</td>\n",
       "    </tr>\n",
       "    <tr>\n",
       "      <th>4</th>\n",
       "      <td>4</td>\n",
       "      <td>51</td>\n",
       "      <td>0</td>\n",
       "      <td>2016-07-02 16:00:00</td>\n",
       "      <td>4</td>\n",
       "    </tr>\n",
       "    <tr>\n",
       "      <th>...</th>\n",
       "      <td>...</td>\n",
       "      <td>...</td>\n",
       "      <td>...</td>\n",
       "      <td>...</td>\n",
       "      <td>...</td>\n",
       "    </tr>\n",
       "    <tr>\n",
       "      <th>13135</th>\n",
       "      <td>13135</td>\n",
       "      <td>13182</td>\n",
       "      <td>0</td>\n",
       "      <td>2017-12-31 19:00:00</td>\n",
       "      <td>13135</td>\n",
       "    </tr>\n",
       "    <tr>\n",
       "      <th>13136</th>\n",
       "      <td>13136</td>\n",
       "      <td>13183</td>\n",
       "      <td>0</td>\n",
       "      <td>2017-12-31 20:00:00</td>\n",
       "      <td>13136</td>\n",
       "    </tr>\n",
       "    <tr>\n",
       "      <th>13137</th>\n",
       "      <td>13137</td>\n",
       "      <td>13184</td>\n",
       "      <td>0</td>\n",
       "      <td>2017-12-31 21:00:00</td>\n",
       "      <td>13137</td>\n",
       "    </tr>\n",
       "    <tr>\n",
       "      <th>13138</th>\n",
       "      <td>13138</td>\n",
       "      <td>13185</td>\n",
       "      <td>0</td>\n",
       "      <td>2017-12-31 22:00:00</td>\n",
       "      <td>13138</td>\n",
       "    </tr>\n",
       "    <tr>\n",
       "      <th>13139</th>\n",
       "      <td>13139</td>\n",
       "      <td>13186</td>\n",
       "      <td>0</td>\n",
       "      <td>2017-12-31 23:00:00</td>\n",
       "      <td>13139</td>\n",
       "    </tr>\n",
       "  </tbody>\n",
       "</table>\n",
       "<p>13140 rows × 5 columns</p>\n",
       "</div>"
      ],
      "text/plain": [
       "       index_start  index_end  group_id   predict_start_date  sample_id\n",
       "0                0         47         0  2016-07-02 12:00:00          0\n",
       "1                1         48         0  2016-07-02 13:00:00          1\n",
       "2                2         49         0  2016-07-02 14:00:00          2\n",
       "3                3         50         0  2016-07-02 15:00:00          3\n",
       "4                4         51         0  2016-07-02 16:00:00          4\n",
       "...            ...        ...       ...                  ...        ...\n",
       "13135        13135      13182         0  2017-12-31 19:00:00      13135\n",
       "13136        13136      13183         0  2017-12-31 20:00:00      13136\n",
       "13137        13137      13184         0  2017-12-31 21:00:00      13137\n",
       "13138        13138      13185         0  2017-12-31 22:00:00      13138\n",
       "13139        13139      13186         0  2017-12-31 23:00:00      13139\n",
       "\n",
       "[13140 rows x 5 columns]"
      ]
     },
     "execution_count": 17,
     "metadata": {},
     "output_type": "execute_result"
    }
   ],
   "source": [
    "torch_dataset.index"
   ]
  },
  {
   "cell_type": "markdown",
   "metadata": {},
   "source": [
    "### dataloader"
   ]
  },
  {
   "cell_type": "code",
   "execution_count": 18,
   "metadata": {},
   "outputs": [],
   "source": [
    "dl = DataLoader(torch_dataset, batch_size=2, shuffle=True)"
   ]
  },
  {
   "cell_type": "code",
   "execution_count": 22,
   "metadata": {},
   "outputs": [
    {
     "data": {
      "text/plain": [
       "{'x': tensor([[14.3510, 14.5620, 14.1400, 14.3510, 13.9990, 13.7880, 13.5070, 13.3660,\n",
       "          13.0850, 14.3510, 13.6470, 14.0690, 13.6470, 12.9440, 12.4510, 12.3810,\n",
       "          12.1700, 12.1000, 11.8180, 11.5370, 11.3960, 11.6070, 11.1850, 11.1850,\n",
       "          10.9740, 11.0440, 11.0440, 10.8330, 11.1850, 11.3960, 11.3960, 11.0440,\n",
       "          11.1850, 11.3260, 11.2560, 11.5370],\n",
       "         [36.0180, 36.2290, 36.5100, 36.7210, 36.5800, 37.7060, 37.7060, 37.6360,\n",
       "          37.0030, 38.5500, 38.0580, 37.0030, 37.0030, 29.8270, 32.8520, 36.1580,\n",
       "          35.8070, 37.7760, 39.5350, 38.2690, 34.7510, 33.7670, 32.8520, 33.1330,\n",
       "          34.3290, 35.3850, 34.5400, 32.7110, 33.9070, 34.6810, 35.6660, 34.4700,\n",
       "          35.3140, 33.8370, 35.8770, 35.5250]]),\n",
       " 'x_feats': tensor([[[12.8600,  1.2730],\n",
       "          [11.8550,  0.4690],\n",
       "          [11.1190, -0.2010],\n",
       "          [11.7880,  0.0670],\n",
       "          [10.7840,  0.6700],\n",
       "          [ 8.6400,  0.6700],\n",
       "          [ 8.1720,  0.0670],\n",
       "          [ 8.2390,  0.0670],\n",
       "          [ 3.0810, -0.0670],\n",
       "          [ 3.8850, -0.8040],\n",
       "          [ 4.4880, -0.5360],\n",
       "          [ 4.2870,  0.0000],\n",
       "          [ 4.7560, -0.7370],\n",
       "          [ 6.4300, -1.4740],\n",
       "          [ 8.0380, -1.0720],\n",
       "          [ 7.2340, -2.8800],\n",
       "          [ 7.6360, -2.2100],\n",
       "          [ 8.4390, -1.7410],\n",
       "          [ 9.3100, -1.8750],\n",
       "          [ 8.9750, -0.6030],\n",
       "          [11.3200, -1.9420],\n",
       "          [12.3910, -2.2100],\n",
       "          [11.8550, -1.6740],\n",
       "          [11.7880, -1.6080],\n",
       "          [10.6500, -2.9470],\n",
       "          [12.1900, -1.1390],\n",
       "          [12.0560, -2.3440],\n",
       "          [11.9890, -2.8800],\n",
       "          [10.3150, -2.0760],\n",
       "          [ 9.1760, -2.2770],\n",
       "          [ 5.7600, -4.0860],\n",
       "          [ 6.2290, -3.8850],\n",
       "          [ 3.8850, -3.4830],\n",
       "          [ 1.6080, -4.0860],\n",
       "          [ 1.6740, -3.8850],\n",
       "          [ 2.4780, -3.1480]],\n",
       " \n",
       "         [[12.7930,  2.7460],\n",
       "          [16.0080,  5.6930],\n",
       "          [19.1560,  6.2290],\n",
       "          [16.8120,  5.8940],\n",
       "          [17.6160,  5.9610],\n",
       "          [16.3430,  5.7600],\n",
       "          [18.0180,  7.1000],\n",
       "          [18.1520,  7.0330],\n",
       "          [16.2090,  4.8230],\n",
       "          [13.4630,  4.0860],\n",
       "          [10.3150,  3.4160],\n",
       "          [ 8.8410,  3.1480],\n",
       "          [10.2480,  3.2820],\n",
       "          [ 8.5730,  2.0090],\n",
       "          [ 8.7740,  2.1430],\n",
       "          [ 9.5110,  1.6080],\n",
       "          [ 8.7740,  2.0760],\n",
       "          [ 9.3100,  2.1430],\n",
       "          [ 8.3060,  2.2770],\n",
       "          [ 8.9750,  2.2770],\n",
       "          [ 8.8410,  2.1430],\n",
       "          [ 9.0420,  2.3440],\n",
       "          [11.2530,  2.6120],\n",
       "          [11.9890,  3.4160],\n",
       "          [12.5250,  3.8180],\n",
       "          [13.5970,  4.6220],\n",
       "          [14.6020,  5.3580],\n",
       "          [13.4630,  4.5550],\n",
       "          [12.2570,  3.8850],\n",
       "          [12.2570,  4.6890],\n",
       "          [11.5880,  3.6840],\n",
       "          [11.9220,  3.3490],\n",
       "          [11.5210,  3.6840],\n",
       "          [ 8.7740,  2.6790],\n",
       "          [ 7.9710,  3.0810],\n",
       "          [ 8.3060,  2.4110]]]),\n",
       " 'y': tensor([[11.1850, 11.1150, 10.7630, 10.6930, 10.9040, 11.1150, 10.1300, 10.4110,\n",
       "          10.1300, 10.0600, 10.0600, 10.0600],\n",
       "         [36.5800, 37.3540, 34.6110, 33.8370, 33.2040, 34.6810, 36.7210, 34.7510,\n",
       "          24.9030, 32.8520, 33.1330, 29.9680]]),\n",
       " 'group_id': tensor([0, 0]),\n",
       " 'sample_id': tensor([10179,   286])}"
      ]
     },
     "execution_count": 22,
     "metadata": {},
     "output_type": "execute_result"
    }
   ],
   "source": [
    "next(iter(dl))"
   ]
  },
  {
   "cell_type": "code",
   "execution_count": 26,
   "metadata": {},
   "outputs": [
    {
     "name": "stdout",
     "output_type": "stream",
     "text": [
      "{'x': tensor([[ 3.2360,  2.9550,  0.9850,  0.7740,  0.0000,  0.9850,  0.0000,  0.6330,\n",
      "          0.0000, -0.6330,  2.1810,  2.4620,  3.0950,  5.2760,  5.3460,  4.2910,\n",
      "          5.3460,  4.7130,  5.9790,  4.5020,  6.6130,  6.8240,  6.9640,  4.9950,\n",
      "          5.6980,  6.6130,  6.4020,  3.7280,  3.1660,  5.0650,  5.2760,  3.7280,\n",
      "          5.3460,  6.8240,  7.0350,  6.6130],\n",
      "        [ 9.4260,  9.3560,  8.5120,  8.8640,  8.3010,  9.0040,  5.0650,  7.1050,\n",
      "          5.5570,  5.9090,  4.2210,  4.6430,  6.1200,  7.3860,  3.1660,  3.2360,\n",
      "          3.3060,  3.2360,  4.0100,  4.0100,  6.7530,  6.7530,  6.7530,  6.7530,\n",
      "          6.7530,  6.7530,  6.7530,  6.7530,  6.7530,  6.7530,  6.7530,  6.7530,\n",
      "          6.7530,  6.7530,  6.7530,  6.7530]]), 'x_feats': tensor([[[ 7.1670, -1.6080],\n",
      "         [ 6.7650, -1.7410],\n",
      "         [ 6.6310, -1.5410],\n",
      "         [ 6.7650, -1.7410],\n",
      "         [ 7.2340, -1.6740],\n",
      "         [ 9.2430, -1.4070],\n",
      "         [11.3870, -0.9380],\n",
      "         [10.5160, -0.7370],\n",
      "         [ 9.9800, -0.8710],\n",
      "         [10.6500, -0.6030],\n",
      "         [ 8.9080, -1.0720],\n",
      "         [ 8.9750, -0.8710],\n",
      "         [10.0470, -0.7370],\n",
      "         [10.1140, -0.4690],\n",
      "         [12.9270, -0.2680],\n",
      "         [13.7980, -0.3350],\n",
      "         [14.0660, -0.3350],\n",
      "         [15.4720, -0.0670],\n",
      "         [15.8070,  0.0000],\n",
      "         [15.0700, -0.1340],\n",
      "         [13.3290, -0.4690],\n",
      "         [11.8550, -0.6030],\n",
      "         [10.7840, -0.8710],\n",
      "         [ 9.6450, -0.8040],\n",
      "         [ 8.7070, -1.0050],\n",
      "         [ 8.1720, -1.1390],\n",
      "         [ 8.0380, -1.2060],\n",
      "         [ 7.5690, -1.4070],\n",
      "         [ 8.5060, -1.1390],\n",
      "         [ 9.8460, -0.7370],\n",
      "         [10.6500, -0.1340],\n",
      "         [ 5.3580, -0.7370],\n",
      "         [-0.7370,  0.0000],\n",
      "         [-3.9520,  0.9380],\n",
      "         [-3.6840,  0.0670],\n",
      "         [-4.4880,  0.2010]],\n",
      "\n",
      "        [[12.7260,  2.2770],\n",
      "         [11.9890,  2.7460],\n",
      "         [13.3290,  1.8080],\n",
      "         [12.9940,  2.3440],\n",
      "         [10.8510,  2.7460],\n",
      "         [ 7.4350,  0.3350],\n",
      "         [ 7.9040,  0.0000],\n",
      "         [ 6.2290,  0.1340],\n",
      "         [ 3.7510, -0.6700],\n",
      "         [ 4.9570,  0.1340],\n",
      "         [ 5.0900, -0.3350],\n",
      "         [ 4.3540, -0.0670],\n",
      "         [ 6.6310, -0.3350],\n",
      "         [ 8.4390, -0.6030],\n",
      "         [ 7.3680, -1.2060],\n",
      "         [ 6.9660, -1.3400],\n",
      "         [ 6.2960, -1.4740],\n",
      "         [ 5.6260, -1.4740],\n",
      "         [ 6.0950, -0.8710],\n",
      "         [ 8.8410,  0.2680],\n",
      "         [10.2480,  0.0000],\n",
      "         [10.2480,  0.0000],\n",
      "         [10.2480,  0.0000],\n",
      "         [10.2480,  0.0000],\n",
      "         [10.2480,  0.0000],\n",
      "         [10.2480,  0.0000],\n",
      "         [10.2480,  0.0000],\n",
      "         [10.2480,  0.0000],\n",
      "         [10.2480,  0.0000],\n",
      "         [10.2480,  0.0000],\n",
      "         [10.2480,  0.0000],\n",
      "         [10.2480,  0.0000],\n",
      "         [10.2480,  0.0000],\n",
      "         [10.2480,  0.0000],\n",
      "         [10.2480,  0.0000],\n",
      "         [10.2480,  0.0000]]]), 'y': tensor([[ 7.8090,  6.4020,  5.9090,  6.8940,  7.6680,  7.8090,  7.9490,  7.6680,\n",
      "          8.4420,  8.2310,  6.4020,  6.8240],\n",
      "        [ 6.7530,  6.7530,  6.7530,  6.7530,  6.7530,  6.7530,  6.7530,  6.7530,\n",
      "         10.6930, 11.4670, 11.8890, 11.3260]]), 'group_id': tensor([0, 0]), 'sample_id': tensor([5330, 6532])}\n"
     ]
    }
   ],
   "source": [
    "for itr in dl:\n",
    "    print(itr)\n",
    "    break"
   ]
  },
  {
   "cell_type": "code",
   "execution_count": 21,
   "metadata": {},
   "outputs": [
    {
     "data": {
      "text/plain": [
       "{0: 'group_id'}"
      ]
     },
     "execution_count": 21,
     "metadata": {},
     "output_type": "execute_result"
    }
   ],
   "source": [
    "torch_dataset.group_id_map"
   ]
  }
 ],
 "metadata": {
  "kernelspec": {
   "display_name": "group_time_series_dataset",
   "language": "python",
   "name": "python3"
  },
  "language_info": {
   "codemirror_mode": {
    "name": "ipython",
    "version": 3
   },
   "file_extension": ".py",
   "mimetype": "text/x-python",
   "name": "python",
   "nbconvert_exporter": "python",
   "pygments_lexer": "ipython3",
   "version": "3.8.19"
  }
 },
 "nbformat": 4,
 "nbformat_minor": 2
}
